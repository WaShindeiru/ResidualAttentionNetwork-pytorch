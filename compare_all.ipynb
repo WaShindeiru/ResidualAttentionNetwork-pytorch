{
 "cells": [
  {
   "metadata": {
    "ExecuteTime": {
     "end_time": "2025-06-17T13:29:23.334173Z",
     "start_time": "2025-06-17T13:29:23.291204Z"
    }
   },
   "cell_type": "code",
   "source": [
    "%load_ext autoreload\n",
    "%autoreload 2"
   ],
   "id": "d94b2fc5ae045c5",
   "outputs": [
    {
     "name": "stdout",
     "output_type": "stream",
     "text": [
      "The autoreload extension is already loaded. To reload it, use:\n",
      "  %reload_ext autoreload\n"
     ]
    }
   ],
   "execution_count": 40
  },
  {
   "cell_type": "code",
   "id": "initial_id",
   "metadata": {
    "collapsed": true,
    "ExecuteTime": {
     "end_time": "2025-06-17T13:29:23.380386Z",
     "start_time": "2025-06-17T13:29:23.347829Z"
    }
   },
   "source": [
    "import torch\n",
    "import pickle\n",
    "\n",
    "%load_ext autoreload\n",
    "%autoreload 2\n",
    "import metrics"
   ],
   "outputs": [
    {
     "name": "stdout",
     "output_type": "stream",
     "text": [
      "The autoreload extension is already loaded. To reload it, use:\n",
      "  %reload_ext autoreload\n"
     ]
    }
   ],
   "execution_count": 41
  },
  {
   "metadata": {
    "ExecuteTime": {
     "end_time": "2025-06-17T13:29:23.431982Z",
     "start_time": "2025-06-17T13:29:23.400360Z"
    }
   },
   "cell_type": "code",
   "source": [
    "from torchvision import datasets, transforms\n",
    "from torch.utils.data import DataLoader"
   ],
   "id": "c585664ad201d215",
   "outputs": [],
   "execution_count": 42
  },
  {
   "metadata": {
    "ExecuteTime": {
     "end_time": "2025-06-17T13:29:23.692270Z",
     "start_time": "2025-06-17T13:29:23.654657Z"
    }
   },
   "cell_type": "code",
   "source": [
    "test_dataset = datasets.FashionMNIST(\n",
    "    root='./data_mnist_test',\n",
    "    train=False,\n",
    "    download=True\n",
    ")"
   ],
   "id": "6f10b228fcfac17a",
   "outputs": [],
   "execution_count": 43
  },
  {
   "metadata": {
    "ExecuteTime": {
     "end_time": "2025-06-17T13:29:23.737978Z",
     "start_time": "2025-06-17T13:29:23.706155Z"
    }
   },
   "cell_type": "code",
   "source": "device = ('cuda' if torch.cuda.is_available() else 'cpu')",
   "id": "9a8730b1634e79c",
   "outputs": [],
   "execution_count": 44
  },
  {
   "metadata": {
    "ExecuteTime": {
     "end_time": "2025-06-17T13:29:23.955971Z",
     "start_time": "2025-06-17T13:29:23.756826Z"
    }
   },
   "cell_type": "code",
   "source": [
    "from ResNet.model.residual_attention_network import ResidualAttentionModel_92_32input_update as ResidualAttentionModel\n",
    "\n",
    "model_res = ResidualAttentionModel().to(device)\n",
    "model_res.load_state_dict(torch.load('./ResNet/weights/ResidualAttentionModel_92_32input_update_2025-06-16_23:37:33.pth', weights_only=True))\n",
    "model_res.eval()\n",
    "\n",
    "transform_resnet = transforms.Compose([\n",
    "    transforms.Pad(padding=2),\n",
    "    transforms.Grayscale(num_output_channels=3),\n",
    "    transforms.ToTensor(),\n",
    "])"
   ],
   "id": "7d2a0cd0730c9ba1",
   "outputs": [],
   "execution_count": 45
  },
  {
   "metadata": {
    "ExecuteTime": {
     "end_time": "2025-06-17T13:29:24.001239Z",
     "start_time": "2025-06-17T13:29:23.968827Z"
    }
   },
   "cell_type": "code",
   "source": [
    "path = \"./ResNet/results/ResidualAttentionModel_92_32input_update_2025-06-16_23:37:33/history.pickle\"\n",
    "with open(path, 'rb') as f:\n",
    "    data = pickle.load(f)"
   ],
   "id": "5e827d17a77e05ce",
   "outputs": [],
   "execution_count": 46
  },
  {
   "metadata": {
    "ExecuteTime": {
     "end_time": "2025-06-17T13:29:24.050280Z",
     "start_time": "2025-06-17T13:29:24.019414Z"
    }
   },
   "cell_type": "code",
   "source": [
    "def list_to_dictionary(data):\n",
    "    keys_ = data[0].keys()\n",
    "    length_ = len(data)\n",
    "\n",
    "    temp_ = {}\n",
    "    for key_ in keys_:\n",
    "        temp_[key_] = []\n",
    "        for i in range(length_):\n",
    "            temp_[key_].append(data[i][key_])\n",
    "\n",
    "    return temp_"
   ],
   "id": "c0f270addb8b3638",
   "outputs": [],
   "execution_count": 47
  },
  {
   "metadata": {
    "ExecuteTime": {
     "end_time": "2025-06-17T13:29:24.102242Z",
     "start_time": "2025-06-17T13:29:24.070101Z"
    }
   },
   "cell_type": "code",
   "source": "data = list_to_dictionary(data)",
   "id": "c088639811f8dbac",
   "outputs": [],
   "execution_count": 48
  },
  {
   "metadata": {
    "ExecuteTime": {
     "end_time": "2025-06-17T13:29:24.154444Z",
     "start_time": "2025-06-17T13:29:24.121794Z"
    }
   },
   "cell_type": "code",
   "source": "print(data.keys())",
   "id": "6ec7cc34ab1ccf53",
   "outputs": [
    {
     "name": "stdout",
     "output_type": "stream",
     "text": [
      "dict_keys(['loss', 'val_loss', 'train_acc', 'val_acc', 'epoch_time'])\n"
     ]
    }
   ],
   "execution_count": 49
  },
  {
   "metadata": {
    "ExecuteTime": {
     "end_time": "2025-06-17T13:29:24.208996Z",
     "start_time": "2025-06-17T13:29:24.175683Z"
    }
   },
   "cell_type": "code",
   "source": [
    "data_num = 32\n",
    "\n",
    "x = [test_dataset[i][0] for i in range(16)]  # PIL Images\n",
    "y = [test_dataset[i][1] for i in range(16)]"
   ],
   "id": "83a5dacc7b0cfcf4",
   "outputs": [],
   "execution_count": 50
  },
  {
   "metadata": {
    "ExecuteTime": {
     "end_time": "2025-06-17T13:29:24.263830Z",
     "start_time": "2025-06-17T13:29:24.228799Z"
    }
   },
   "cell_type": "code",
   "source": [
    "compare_dict = {\n",
    "    'ResNet': {'model': model_res, 'transform': transform_resnet, 'history': data},\n",
    "}"
   ],
   "id": "f6669cf47cd63d1b",
   "outputs": [],
   "execution_count": 51
  },
  {
   "metadata": {
    "ExecuteTime": {
     "end_time": "2025-06-17T13:29:24.620504Z",
     "start_time": "2025-06-17T13:29:24.283152Z"
    }
   },
   "cell_type": "code",
   "source": [
    "import importlib\n",
    "import metrics\n",
    "importlib.reload(metrics)\n",
    "metrics.compare_models(compare_dict, x, y, device)"
   ],
   "id": "93d7c268eeac1003",
   "outputs": [
    {
     "name": "stdout",
     "output_type": "stream",
     "text": [
      "--- Rozpoczynanie analizy modeli ---\n",
      "Analizowanie: ResNet...\n",
      "(16,)\n",
      "(16,)\n",
      "⚠️ Ostrzeżenie: Nie udało się obliczyć FLOPS. Błąd: 'ResidualAttentionModel_92_32input_update' object has no attribute 'inputs'\n"
     ]
    },
    {
     "ename": "KeyError",
     "evalue": "\"['AUC (micro)'] not in index\"",
     "output_type": "error",
     "traceback": [
      "\u001B[31m---------------------------------------------------------------------------\u001B[39m",
      "\u001B[31mKeyError\u001B[39m                                  Traceback (most recent call last)",
      "\u001B[36mCell\u001B[39m\u001B[36m \u001B[39m\u001B[32mIn[52]\u001B[39m\u001B[32m, line 4\u001B[39m\n\u001B[32m      2\u001B[39m \u001B[38;5;28;01mimport\u001B[39;00m\u001B[38;5;250m \u001B[39m\u001B[34;01mmetrics\u001B[39;00m\n\u001B[32m      3\u001B[39m importlib.reload(metrics)\n\u001B[32m----> \u001B[39m\u001B[32m4\u001B[39m \u001B[43mmetrics\u001B[49m\u001B[43m.\u001B[49m\u001B[43mcompare_models\u001B[49m\u001B[43m(\u001B[49m\u001B[43mcompare_dict\u001B[49m\u001B[43m,\u001B[49m\u001B[43m \u001B[49m\u001B[43mx\u001B[49m\u001B[43m,\u001B[49m\u001B[43m \u001B[49m\u001B[43my\u001B[49m\u001B[43m,\u001B[49m\u001B[43m \u001B[49m\u001B[43mdevice\u001B[49m\u001B[43m)\u001B[49m\n",
      "\u001B[36mFile \u001B[39m\u001B[32m~/studia/sem_8/ssn/projekt_v2/ResidualAttentionNetwork-pytorch/metrics.py:118\u001B[39m, in \u001B[36mcompare_models\u001B[39m\u001B[34m(models_dict, x_test, y_test_cat, device)\u001B[39m\n\u001B[32m    113\u001B[39m higher_is_better = [\u001B[33m'\u001B[39m\u001B[33mAccuracy\u001B[39m\u001B[33m'\u001B[39m, \u001B[33m'\u001B[39m\u001B[33mAUC (micro)\u001B[39m\u001B[33m'\u001B[39m, \u001B[33m'\u001B[39m\u001B[33mF1-score (w)\u001B[39m\u001B[33m'\u001B[39m, \u001B[33m'\u001B[39m\u001B[33mPrecision (w)\u001B[39m\u001B[33m'\u001B[39m, \u001B[33m'\u001B[39m\u001B[33mRecall (w)\u001B[39m\u001B[33m'\u001B[39m, \u001B[33m'\u001B[39m\u001B[33mPrzepustowość (próbki/s)\u001B[39m\u001B[33m'\u001B[39m]\n\u001B[32m    114\u001B[39m lower_is_better = [\u001B[33m'\u001B[39m\u001B[33mCzas predykcji (s)\u001B[39m\u001B[33m'\u001B[39m, \u001B[33m'\u001B[39m\u001B[33mLiczba parametrów\u001B[39m\u001B[33m'\u001B[39m, \u001B[33m'\u001B[39m\u001B[33mRozmiar (MB)\u001B[39m\u001B[33m'\u001B[39m, \u001B[33m'\u001B[39m\u001B[33mFLOPS\u001B[39m\u001B[33m'\u001B[39m, \u001B[33m'\u001B[39m\u001B[33mPrzeuczenie (delta)\u001B[39m\u001B[33m'\u001B[39m, \u001B[33m'\u001B[39m\u001B[33mMSE\u001B[39m\u001B[33m'\u001B[39m]\n\u001B[32m    116\u001B[39m styled_df = \u001B[43mresults_df\u001B[49m\u001B[43m.\u001B[49m\u001B[43mstyle\u001B[49m\u001B[43m.\u001B[49m\u001B[43mbackground_gradient\u001B[49m\u001B[43m(\u001B[49m\u001B[43mcmap\u001B[49m\u001B[43m=\u001B[49m\u001B[33;43m'\u001B[39;49m\u001B[33;43mGreens\u001B[39;49m\u001B[33;43m'\u001B[39;49m\u001B[43m,\u001B[49m\u001B[43m \u001B[49m\u001B[43msubset\u001B[49m\u001B[43m=\u001B[49m\u001B[43mhigher_is_better\u001B[49m\u001B[43m)\u001B[49m\u001B[43m \u001B[49m\u001B[43m\\\u001B[49m\n\u001B[32m    117\u001B[39m \u001B[43m                           \u001B[49m\u001B[43m.\u001B[49m\u001B[43mbackground_gradient\u001B[49m\u001B[43m(\u001B[49m\u001B[43mcmap\u001B[49m\u001B[43m=\u001B[49m\u001B[33;43m'\u001B[39;49m\u001B[33;43mGreens_r\u001B[39;49m\u001B[33;43m'\u001B[39;49m\u001B[43m,\u001B[49m\u001B[43m \u001B[49m\u001B[43msubset\u001B[49m\u001B[43m=\u001B[49m\u001B[43mlower_is_better\u001B[49m\u001B[43m)\u001B[49m\u001B[43m \u001B[49m\u001B[43m\\\u001B[49m\n\u001B[32m--> \u001B[39m\u001B[32m118\u001B[39m \u001B[43m                           \u001B[49m\u001B[43m.\u001B[49m\u001B[43mformat\u001B[49m\u001B[43m(\u001B[49m\u001B[33;43m'\u001B[39;49m\u001B[38;5;132;43;01m{:.4f}\u001B[39;49;00m\u001B[33;43m'\u001B[39;49m\u001B[43m,\u001B[49m\u001B[43m \u001B[49m\u001B[43msubset\u001B[49m\u001B[43m=\u001B[49m\u001B[43mpd\u001B[49m\u001B[43m.\u001B[49m\u001B[43mIndexSlice\u001B[49m\u001B[43m[\u001B[49m\u001B[43m:\u001B[49m\u001B[43m,\u001B[49m\u001B[43m \u001B[49m\u001B[43m[\u001B[49m\u001B[33;43m'\u001B[39;49m\u001B[33;43mAccuracy\u001B[39;49m\u001B[33;43m'\u001B[39;49m\u001B[43m,\u001B[49m\u001B[43m \u001B[49m\u001B[33;43m'\u001B[39;49m\u001B[33;43mAUC (micro)\u001B[39;49m\u001B[33;43m'\u001B[39;49m\u001B[43m,\u001B[49m\u001B[43m \u001B[49m\u001B[33;43m'\u001B[39;49m\u001B[33;43mF1-score (w)\u001B[39;49m\u001B[33;43m'\u001B[39;49m\u001B[43m,\u001B[49m\u001B[43m \u001B[49m\u001B[33;43m'\u001B[39;49m\u001B[33;43mPrecision (w)\u001B[39;49m\u001B[33;43m'\u001B[39;49m\u001B[43m,\u001B[49m\u001B[43m \u001B[49m\u001B[33;43m'\u001B[39;49m\u001B[33;43mRecall (w)\u001B[39;49m\u001B[33;43m'\u001B[39;49m\u001B[43m,\u001B[49m\u001B[43m \u001B[49m\u001B[33;43m'\u001B[39;49m\u001B[33;43mPrzeuczenie (delta)\u001B[39;49m\u001B[33;43m'\u001B[39;49m\u001B[43m,\u001B[49m\u001B[43m \u001B[49m\u001B[33;43m'\u001B[39;49m\u001B[33;43mMSE\u001B[39;49m\u001B[33;43m'\u001B[39;49m\u001B[43m]\u001B[49m\u001B[43m]\u001B[49m\u001B[43m)\u001B[49m \\\n\u001B[32m    119\u001B[39m                            .format({\u001B[33m'\u001B[39m\u001B[33mCzas predykcji (s)\u001B[39m\u001B[33m'\u001B[39m: \u001B[33m'\u001B[39m\u001B[38;5;132;01m{:.3f}\u001B[39;00m\u001B[33m'\u001B[39m, \u001B[33m'\u001B[39m\u001B[33mPrzepustowość (próbki/s)\u001B[39m\u001B[33m'\u001B[39m: \u001B[33m'\u001B[39m\u001B[38;5;132;01m{:,.0f}\u001B[39;00m\u001B[33m'\u001B[39m, \u001B[33m'\u001B[39m\u001B[33mLiczba parametrów\u001B[39m\u001B[33m'\u001B[39m: \u001B[33m'\u001B[39m\u001B[38;5;132;01m{:,}\u001B[39;00m\u001B[33m'\u001B[39m, \u001B[33m'\u001B[39m\u001B[33mRozmiar (MB)\u001B[39m\u001B[33m'\u001B[39m: \u001B[33m'\u001B[39m\u001B[38;5;132;01m{:.2f}\u001B[39;00m\u001B[33m'\u001B[39m, \u001B[33m'\u001B[39m\u001B[33mFLOPS\u001B[39m\u001B[33m'\u001B[39m: \u001B[33m'\u001B[39m\u001B[38;5;132;01m{:,}\u001B[39;00m\u001B[33m'\u001B[39m})\n\u001B[32m    121\u001B[39m \u001B[38;5;28mprint\u001B[39m(\u001B[33m\"\u001B[39m\u001B[38;5;130;01m\\n\u001B[39;00m\u001B[38;5;130;01m\\n\u001B[39;00m\u001B[33m\"\u001B[39m + \u001B[33m\"\u001B[39m\u001B[33m=\u001B[39m\u001B[33m\"\u001B[39m*\u001B[32m50\u001B[39m)\n\u001B[32m    122\u001B[39m \u001B[38;5;28mprint\u001B[39m(\u001B[33m\"\u001B[39m\u001B[33m🏆 TABELA PORÓWNAWCZA MODELI 🏆\u001B[39m\u001B[33m\"\u001B[39m)\n",
      "\u001B[36mFile \u001B[39m\u001B[32m~/.venv/data_torch/lib/python3.12/site-packages/pandas/io/formats/style_render.py:1193\u001B[39m, in \u001B[36mStylerRenderer.format\u001B[39m\u001B[34m(self, formatter, subset, na_rep, precision, decimal, thousands, escape, hyperlinks)\u001B[39m\n\u001B[32m   1191\u001B[39m subset = \u001B[38;5;28mslice\u001B[39m(\u001B[38;5;28;01mNone\u001B[39;00m) \u001B[38;5;28;01mif\u001B[39;00m subset \u001B[38;5;129;01mis\u001B[39;00m \u001B[38;5;28;01mNone\u001B[39;00m \u001B[38;5;28;01melse\u001B[39;00m subset\n\u001B[32m   1192\u001B[39m subset = non_reducing_slice(subset)\n\u001B[32m-> \u001B[39m\u001B[32m1193\u001B[39m data = \u001B[38;5;28;43mself\u001B[39;49m\u001B[43m.\u001B[49m\u001B[43mdata\u001B[49m\u001B[43m.\u001B[49m\u001B[43mloc\u001B[49m\u001B[43m[\u001B[49m\u001B[43msubset\u001B[49m\u001B[43m]\u001B[49m\n\u001B[32m   1195\u001B[39m \u001B[38;5;28;01mif\u001B[39;00m \u001B[38;5;129;01mnot\u001B[39;00m \u001B[38;5;28misinstance\u001B[39m(formatter, \u001B[38;5;28mdict\u001B[39m):\n\u001B[32m   1196\u001B[39m     formatter = {col: formatter \u001B[38;5;28;01mfor\u001B[39;00m col \u001B[38;5;129;01min\u001B[39;00m data.columns}\n",
      "\u001B[36mFile \u001B[39m\u001B[32m~/.venv/data_torch/lib/python3.12/site-packages/pandas/core/indexing.py:1184\u001B[39m, in \u001B[36m_LocationIndexer.__getitem__\u001B[39m\u001B[34m(self, key)\u001B[39m\n\u001B[32m   1182\u001B[39m     \u001B[38;5;28;01mif\u001B[39;00m \u001B[38;5;28mself\u001B[39m._is_scalar_access(key):\n\u001B[32m   1183\u001B[39m         \u001B[38;5;28;01mreturn\u001B[39;00m \u001B[38;5;28mself\u001B[39m.obj._get_value(*key, takeable=\u001B[38;5;28mself\u001B[39m._takeable)\n\u001B[32m-> \u001B[39m\u001B[32m1184\u001B[39m     \u001B[38;5;28;01mreturn\u001B[39;00m \u001B[38;5;28;43mself\u001B[39;49m\u001B[43m.\u001B[49m\u001B[43m_getitem_tuple\u001B[49m\u001B[43m(\u001B[49m\u001B[43mkey\u001B[49m\u001B[43m)\u001B[49m\n\u001B[32m   1185\u001B[39m \u001B[38;5;28;01melse\u001B[39;00m:\n\u001B[32m   1186\u001B[39m     \u001B[38;5;66;03m# we by definition only have the 0th axis\u001B[39;00m\n\u001B[32m   1187\u001B[39m     axis = \u001B[38;5;28mself\u001B[39m.axis \u001B[38;5;129;01mor\u001B[39;00m \u001B[32m0\u001B[39m\n",
      "\u001B[36mFile \u001B[39m\u001B[32m~/.venv/data_torch/lib/python3.12/site-packages/pandas/core/indexing.py:1377\u001B[39m, in \u001B[36m_LocIndexer._getitem_tuple\u001B[39m\u001B[34m(self, tup)\u001B[39m\n\u001B[32m   1374\u001B[39m \u001B[38;5;28;01mif\u001B[39;00m \u001B[38;5;28mself\u001B[39m._multi_take_opportunity(tup):\n\u001B[32m   1375\u001B[39m     \u001B[38;5;28;01mreturn\u001B[39;00m \u001B[38;5;28mself\u001B[39m._multi_take(tup)\n\u001B[32m-> \u001B[39m\u001B[32m1377\u001B[39m \u001B[38;5;28;01mreturn\u001B[39;00m \u001B[38;5;28;43mself\u001B[39;49m\u001B[43m.\u001B[49m\u001B[43m_getitem_tuple_same_dim\u001B[49m\u001B[43m(\u001B[49m\u001B[43mtup\u001B[49m\u001B[43m)\u001B[49m\n",
      "\u001B[36mFile \u001B[39m\u001B[32m~/.venv/data_torch/lib/python3.12/site-packages/pandas/core/indexing.py:1020\u001B[39m, in \u001B[36m_LocationIndexer._getitem_tuple_same_dim\u001B[39m\u001B[34m(self, tup)\u001B[39m\n\u001B[32m   1017\u001B[39m \u001B[38;5;28;01mif\u001B[39;00m com.is_null_slice(key):\n\u001B[32m   1018\u001B[39m     \u001B[38;5;28;01mcontinue\u001B[39;00m\n\u001B[32m-> \u001B[39m\u001B[32m1020\u001B[39m retval = \u001B[38;5;28;43mgetattr\u001B[39;49m\u001B[43m(\u001B[49m\u001B[43mretval\u001B[49m\u001B[43m,\u001B[49m\u001B[43m \u001B[49m\u001B[38;5;28;43mself\u001B[39;49m\u001B[43m.\u001B[49m\u001B[43mname\u001B[49m\u001B[43m)\u001B[49m\u001B[43m.\u001B[49m\u001B[43m_getitem_axis\u001B[49m\u001B[43m(\u001B[49m\u001B[43mkey\u001B[49m\u001B[43m,\u001B[49m\u001B[43m \u001B[49m\u001B[43maxis\u001B[49m\u001B[43m=\u001B[49m\u001B[43mi\u001B[49m\u001B[43m)\u001B[49m\n\u001B[32m   1021\u001B[39m \u001B[38;5;66;03m# We should never have retval.ndim < self.ndim, as that should\u001B[39;00m\n\u001B[32m   1022\u001B[39m \u001B[38;5;66;03m#  be handled by the _getitem_lowerdim call above.\u001B[39;00m\n\u001B[32m   1023\u001B[39m \u001B[38;5;28;01massert\u001B[39;00m retval.ndim == \u001B[38;5;28mself\u001B[39m.ndim\n",
      "\u001B[36mFile \u001B[39m\u001B[32m~/.venv/data_torch/lib/python3.12/site-packages/pandas/core/indexing.py:1420\u001B[39m, in \u001B[36m_LocIndexer._getitem_axis\u001B[39m\u001B[34m(self, key, axis)\u001B[39m\n\u001B[32m   1417\u001B[39m     \u001B[38;5;28;01mif\u001B[39;00m \u001B[38;5;28mhasattr\u001B[39m(key, \u001B[33m\"\u001B[39m\u001B[33mndim\u001B[39m\u001B[33m\"\u001B[39m) \u001B[38;5;129;01mand\u001B[39;00m key.ndim > \u001B[32m1\u001B[39m:\n\u001B[32m   1418\u001B[39m         \u001B[38;5;28;01mraise\u001B[39;00m \u001B[38;5;167;01mValueError\u001B[39;00m(\u001B[33m\"\u001B[39m\u001B[33mCannot index with multidimensional key\u001B[39m\u001B[33m\"\u001B[39m)\n\u001B[32m-> \u001B[39m\u001B[32m1420\u001B[39m     \u001B[38;5;28;01mreturn\u001B[39;00m \u001B[38;5;28;43mself\u001B[39;49m\u001B[43m.\u001B[49m\u001B[43m_getitem_iterable\u001B[49m\u001B[43m(\u001B[49m\u001B[43mkey\u001B[49m\u001B[43m,\u001B[49m\u001B[43m \u001B[49m\u001B[43maxis\u001B[49m\u001B[43m=\u001B[49m\u001B[43maxis\u001B[49m\u001B[43m)\u001B[49m\n\u001B[32m   1422\u001B[39m \u001B[38;5;66;03m# nested tuple slicing\u001B[39;00m\n\u001B[32m   1423\u001B[39m \u001B[38;5;28;01mif\u001B[39;00m is_nested_tuple(key, labels):\n",
      "\u001B[36mFile \u001B[39m\u001B[32m~/.venv/data_torch/lib/python3.12/site-packages/pandas/core/indexing.py:1360\u001B[39m, in \u001B[36m_LocIndexer._getitem_iterable\u001B[39m\u001B[34m(self, key, axis)\u001B[39m\n\u001B[32m   1357\u001B[39m \u001B[38;5;28mself\u001B[39m._validate_key(key, axis)\n\u001B[32m   1359\u001B[39m \u001B[38;5;66;03m# A collection of keys\u001B[39;00m\n\u001B[32m-> \u001B[39m\u001B[32m1360\u001B[39m keyarr, indexer = \u001B[38;5;28;43mself\u001B[39;49m\u001B[43m.\u001B[49m\u001B[43m_get_listlike_indexer\u001B[49m\u001B[43m(\u001B[49m\u001B[43mkey\u001B[49m\u001B[43m,\u001B[49m\u001B[43m \u001B[49m\u001B[43maxis\u001B[49m\u001B[43m)\u001B[49m\n\u001B[32m   1361\u001B[39m \u001B[38;5;28;01mreturn\u001B[39;00m \u001B[38;5;28mself\u001B[39m.obj._reindex_with_indexers(\n\u001B[32m   1362\u001B[39m     {axis: [keyarr, indexer]}, copy=\u001B[38;5;28;01mTrue\u001B[39;00m, allow_dups=\u001B[38;5;28;01mTrue\u001B[39;00m\n\u001B[32m   1363\u001B[39m )\n",
      "\u001B[36mFile \u001B[39m\u001B[32m~/.venv/data_torch/lib/python3.12/site-packages/pandas/core/indexing.py:1558\u001B[39m, in \u001B[36m_LocIndexer._get_listlike_indexer\u001B[39m\u001B[34m(self, key, axis)\u001B[39m\n\u001B[32m   1555\u001B[39m ax = \u001B[38;5;28mself\u001B[39m.obj._get_axis(axis)\n\u001B[32m   1556\u001B[39m axis_name = \u001B[38;5;28mself\u001B[39m.obj._get_axis_name(axis)\n\u001B[32m-> \u001B[39m\u001B[32m1558\u001B[39m keyarr, indexer = \u001B[43max\u001B[49m\u001B[43m.\u001B[49m\u001B[43m_get_indexer_strict\u001B[49m\u001B[43m(\u001B[49m\u001B[43mkey\u001B[49m\u001B[43m,\u001B[49m\u001B[43m \u001B[49m\u001B[43maxis_name\u001B[49m\u001B[43m)\u001B[49m\n\u001B[32m   1560\u001B[39m \u001B[38;5;28;01mreturn\u001B[39;00m keyarr, indexer\n",
      "\u001B[36mFile \u001B[39m\u001B[32m~/.venv/data_torch/lib/python3.12/site-packages/pandas/core/indexes/base.py:6212\u001B[39m, in \u001B[36mIndex._get_indexer_strict\u001B[39m\u001B[34m(self, key, axis_name)\u001B[39m\n\u001B[32m   6209\u001B[39m \u001B[38;5;28;01melse\u001B[39;00m:\n\u001B[32m   6210\u001B[39m     keyarr, indexer, new_indexer = \u001B[38;5;28mself\u001B[39m._reindex_non_unique(keyarr)\n\u001B[32m-> \u001B[39m\u001B[32m6212\u001B[39m \u001B[38;5;28;43mself\u001B[39;49m\u001B[43m.\u001B[49m\u001B[43m_raise_if_missing\u001B[49m\u001B[43m(\u001B[49m\u001B[43mkeyarr\u001B[49m\u001B[43m,\u001B[49m\u001B[43m \u001B[49m\u001B[43mindexer\u001B[49m\u001B[43m,\u001B[49m\u001B[43m \u001B[49m\u001B[43maxis_name\u001B[49m\u001B[43m)\u001B[49m\n\u001B[32m   6214\u001B[39m keyarr = \u001B[38;5;28mself\u001B[39m.take(indexer)\n\u001B[32m   6215\u001B[39m \u001B[38;5;28;01mif\u001B[39;00m \u001B[38;5;28misinstance\u001B[39m(key, Index):\n\u001B[32m   6216\u001B[39m     \u001B[38;5;66;03m# GH 42790 - Preserve name from an Index\u001B[39;00m\n",
      "\u001B[36mFile \u001B[39m\u001B[32m~/.venv/data_torch/lib/python3.12/site-packages/pandas/core/indexes/base.py:6264\u001B[39m, in \u001B[36mIndex._raise_if_missing\u001B[39m\u001B[34m(self, key, indexer, axis_name)\u001B[39m\n\u001B[32m   6261\u001B[39m     \u001B[38;5;28;01mraise\u001B[39;00m \u001B[38;5;167;01mKeyError\u001B[39;00m(\u001B[33mf\u001B[39m\u001B[33m\"\u001B[39m\u001B[33mNone of [\u001B[39m\u001B[38;5;132;01m{\u001B[39;00mkey\u001B[38;5;132;01m}\u001B[39;00m\u001B[33m] are in the [\u001B[39m\u001B[38;5;132;01m{\u001B[39;00maxis_name\u001B[38;5;132;01m}\u001B[39;00m\u001B[33m]\u001B[39m\u001B[33m\"\u001B[39m)\n\u001B[32m   6263\u001B[39m not_found = \u001B[38;5;28mlist\u001B[39m(ensure_index(key)[missing_mask.nonzero()[\u001B[32m0\u001B[39m]].unique())\n\u001B[32m-> \u001B[39m\u001B[32m6264\u001B[39m \u001B[38;5;28;01mraise\u001B[39;00m \u001B[38;5;167;01mKeyError\u001B[39;00m(\u001B[33mf\u001B[39m\u001B[33m\"\u001B[39m\u001B[38;5;132;01m{\u001B[39;00mnot_found\u001B[38;5;132;01m}\u001B[39;00m\u001B[33m not in index\u001B[39m\u001B[33m\"\u001B[39m)\n",
      "\u001B[31mKeyError\u001B[39m: \"['AUC (micro)'] not in index\""
     ]
    }
   ],
   "execution_count": 52
  }
 ],
 "metadata": {
  "kernelspec": {
   "display_name": "Python 3",
   "language": "python",
   "name": "python3"
  },
  "language_info": {
   "codemirror_mode": {
    "name": "ipython",
    "version": 2
   },
   "file_extension": ".py",
   "mimetype": "text/x-python",
   "name": "python",
   "nbconvert_exporter": "python",
   "pygments_lexer": "ipython2",
   "version": "2.7.6"
  }
 },
 "nbformat": 4,
 "nbformat_minor": 5
}
