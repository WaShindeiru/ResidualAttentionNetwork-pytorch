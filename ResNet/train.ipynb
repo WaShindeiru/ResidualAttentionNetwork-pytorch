{
 "cells": [
  {
   "cell_type": "code",
   "source": "# !git clone https://github.com/WaShindeiru/ResidualAttentionNetwork-pytorch",
   "metadata": {
    "id": "LaQnn7Vc2Heh",
    "outputId": "6c1ea20b-289c-4dc0-b6f6-0ec244a98754",
    "colab": {
     "base_uri": "https://localhost:8080/"
    },
    "ExecuteTime": {
     "end_time": "2025-06-16T21:14:21.652256Z",
     "start_time": "2025-06-16T21:14:21.650562Z"
    }
   },
   "id": "LaQnn7Vc2Heh",
   "outputs": [],
   "execution_count": 1
  },
  {
   "cell_type": "code",
   "source": "# !cp -r ResidualAttentionNetwork-pytorch/* .",
   "metadata": {
    "id": "FLPRwS_h2S1F",
    "ExecuteTime": {
     "end_time": "2025-06-16T21:14:21.705840Z",
     "start_time": "2025-06-16T21:14:21.703530Z"
    }
   },
   "id": "FLPRwS_h2S1F",
   "outputs": [],
   "execution_count": 2
  },
  {
   "cell_type": "code",
   "source": "from ResNet.model.residual_attention_network import ResidualAttentionModel_92_32input_update as ResidualAttentionModel",
   "metadata": {
    "id": "Sk7KZ5Cx6uyu",
    "ExecuteTime": {
     "end_time": "2025-06-16T21:14:23.566486Z",
     "start_time": "2025-06-16T21:14:21.779341Z"
    }
   },
   "id": "Sk7KZ5Cx6uyu",
   "outputs": [],
   "execution_count": 3
  },
  {
   "cell_type": "code",
   "source": [
    "\n",
    "from torchvision import datasets, transforms\n",
    "from torch.utils.data import DataLoader\n",
    "\n",
    "transform_train = transforms.Compose([\n",
    "    transforms.Pad(padding=2),\n",
    "    transforms.Grayscale(num_output_channels=3),\n",
    "    transforms.ToTensor(),\n",
    "])\n",
    "\n",
    "train_dataset = datasets.FashionMNIST(\n",
    "    root='./data_mnist_train',\n",
    "    train=True,\n",
    "    download=True,\n",
    "    transform=transform_train\n",
    ")\n",
    "\n",
    "test_dataset = datasets.FashionMNIST(\n",
    "    root='./data_mnist_test',\n",
    "    train=False,\n",
    "    download=True,\n",
    "    transform=transform_train\n",
    ")"
   ],
   "metadata": {
    "id": "nKUVP2To-dcX",
    "outputId": "1265d415-2685-4fe5-b0c7-5f0ebddf691c",
    "colab": {
     "base_uri": "https://localhost:8080/"
    },
    "ExecuteTime": {
     "end_time": "2025-06-16T21:14:24.722570Z",
     "start_time": "2025-06-16T21:14:23.575596Z"
    }
   },
   "id": "nKUVP2To-dcX",
   "outputs": [],
   "execution_count": 4
  },
  {
   "cell_type": "code",
   "source": [
    "batch_size = 32\n",
    "\n",
    "train_loader = DataLoader(\n",
    "    train_dataset,\n",
    "    batch_size=batch_size,\n",
    "    shuffle=True\n",
    ")\n",
    "\n",
    "test_loader = DataLoader(\n",
    "    test_dataset,\n",
    "    batch_size=batch_size,\n",
    "    shuffle=False\n",
    ")"
   ],
   "metadata": {
    "id": "Xr8BOwUl_e55",
    "ExecuteTime": {
     "end_time": "2025-06-16T21:14:24.734270Z",
     "start_time": "2025-06-16T21:14:24.732304Z"
    }
   },
   "id": "Xr8BOwUl_e55",
   "outputs": [],
   "execution_count": 5
  },
  {
   "cell_type": "code",
   "source": [
    "images, labels = next(iter(train_loader))\n",
    "# 64, 1, 28, 28\n",
    "print(f\"Images shape: {images.shape}\")\n",
    "print(f\"Labels shape: {labels.shape}\")"
   ],
   "metadata": {
    "id": "JT2TM7VD_kYw",
    "outputId": "466c75dd-44a8-43b2-acd6-42638a57635e",
    "colab": {
     "base_uri": "https://localhost:8080/"
    },
    "ExecuteTime": {
     "end_time": "2025-06-16T21:14:24.789229Z",
     "start_time": "2025-06-16T21:14:24.779346Z"
    }
   },
   "id": "JT2TM7VD_kYw",
   "outputs": [
    {
     "name": "stdout",
     "output_type": "stream",
     "text": [
      "Images shape: torch.Size([32, 3, 32, 32])\n",
      "Labels shape: torch.Size([32])\n"
     ]
    }
   ],
   "execution_count": 6
  },
  {
   "cell_type": "code",
   "source": [
    "class_names = [\n",
    "    'T-shirt/top', 'Trouser', 'Pullover', 'Dress', 'Coat',\n",
    "    'Sandal', 'Shirt', 'Sneaker', 'Bag', 'Ankle boot'\n",
    "]"
   ],
   "metadata": {
    "id": "M2samDpj_tQl",
    "ExecuteTime": {
     "end_time": "2025-06-16T21:14:24.876060Z",
     "start_time": "2025-06-16T21:14:24.874188Z"
    }
   },
   "id": "M2samDpj_tQl",
   "outputs": [],
   "execution_count": 7
  },
  {
   "cell_type": "code",
   "source": [
    "\n",
    "\n",
    "data_iter = iter(train_loader)\n",
    "images, labels = next(data_iter)"
   ],
   "metadata": {
    "id": "eea677cdff2a5ba6",
    "ExecuteTime": {
     "end_time": "2025-06-16T21:14:25.096804Z",
     "start_time": "2025-06-16T21:14:24.925087Z"
    }
   },
   "id": "eea677cdff2a5ba6",
   "outputs": [],
   "execution_count": 8
  },
  {
   "metadata": {
    "id": "GTgq54oa_vFX",
    "ExecuteTime": {
     "end_time": "2025-06-16T21:14:25.108851Z",
     "start_time": "2025-06-16T21:14:25.106880Z"
    }
   },
   "cell_type": "code",
   "source": [
    "def show_images_with_labels(images, labels):\n",
    "    fig = plt.figure(figsize=(10, 4))\n",
    "    for idx in range(5):\n",
    "        print(images[idx].shape)\n",
    "        ax = fig.add_subplot(1, 5, idx + 1, xticks=[], yticks=[])\n",
    "        ax.imshow(images[idx][0].squeeze(), cmap='gray')\n",
    "        ax.set_title(class_names[labels[idx].item()])\n",
    "    plt.show()"
   ],
   "id": "GTgq54oa_vFX",
   "outputs": [],
   "execution_count": 9
  },
  {
   "metadata": {
    "id": "2c85ba900d50edfc",
    "outputId": "0b7e2bfa-73ab-4f5a-a535-1110c3cf9712",
    "colab": {
     "base_uri": "https://localhost:8080/",
     "height": 281
    },
    "ExecuteTime": {
     "end_time": "2025-06-16T21:14:25.239994Z",
     "start_time": "2025-06-16T21:14:25.158933Z"
    }
   },
   "cell_type": "code",
   "source": [
    "show_images_with_labels(images, labels)"
   ],
   "id": "2c85ba900d50edfc",
   "outputs": [
    {
     "name": "stdout",
     "output_type": "stream",
     "text": [
      "torch.Size([3, 32, 32])\n",
      "torch.Size([3, 32, 32])\n",
      "torch.Size([3, 32, 32])\n",
      "torch.Size([3, 32, 32])\n",
      "torch.Size([3, 32, 32])\n"
     ]
    },
    {
     "data": {
      "text/plain": [
       "<Figure size 1000x400 with 5 Axes>"
      ],
      "image/png": "[encoded data removed]"
     },
     "metadata": {},
     "output_type": "display_data"
    }
   ],
   "execution_count": 10
  },
  {
   "cell_type": "code",
   "source": [
    "import torch\n",
    "import torch.nn as nn\n",
    "import torch.optim as optim\n",
    "from tqdm import tqdm\n",
    "import time\n",
    "\n",
    "device = torch.device(\"cuda\" if torch.cuda.is_available() else \"cpu\")\n",
    "model = ResidualAttentionModel().to(device)\n",
    "# print(model)\n",
    "\n",
    "lr = 0.1\n",
    "criterion = nn.CrossEntropyLoss()\n",
    "optimizer = optim.SGD(\n",
    "    model.parameters(),\n",
    "    lr=lr\n",
    ")\n",
    "\n",
    "total_epochs = 10\n",
    "best_acc = 0.0\n",
    "loss_history = [[] for x in range(total_epochs)]\n",
    "loss_history_test = [[] for x in range(total_epochs)]\n",
    "history = []\n",
    "# history = [{} for x in range(total_epochs)]\n",
    "\n",
    "for epoch in range(total_epochs):\n",
    "    model.train()\n",
    "    epoch_start = time.time()\n",
    "    running_loss = 0.0\n",
    "    val_loss = 0.0\n",
    "    total_train = 0\n",
    "    correct_train = 0\n",
    "\n",
    "    train_loop = tqdm(train_loader, desc=f\"Epoch {epoch + 1}/{total_epochs}\", leave=False)\n",
    "\n",
    "    for images, labels in train_loop:\n",
    "        images, labels = images.to(device), labels.to(device)\n",
    "\n",
    "        outputs = model(images)\n",
    "        loss = criterion(outputs, labels)\n",
    "\n",
    "        _, predicted = torch.max(outputs.data, 1)\n",
    "        total_train += images.size(0)\n",
    "        correct_train += (predicted == labels).sum().item()\n",
    "\n",
    "        optimizer.zero_grad()\n",
    "        loss.backward()\n",
    "        optimizer.step()\n",
    "\n",
    "        running_loss += loss.item()\n",
    "        loss_history[epoch].append(loss.item())\n",
    "        train_loop.set_postfix(loss=loss.item())\n",
    "\n",
    "    model.eval()\n",
    "    correct = 0\n",
    "    total = 0\n",
    "    with torch.no_grad():\n",
    "        for images, labels in test_loader:\n",
    "            images, labels = images.to(device), labels.to(device)\n",
    "            outputs = model(images)\n",
    "\n",
    "            test_loss = criterion(outputs, labels)\n",
    "            loss_history_test[epoch].append(test_loss.item())\n",
    "            val_loss += test_loss.item()\n",
    "\n",
    "            _, predicted = torch.max(outputs.data, 1)\n",
    "            total += labels.size(0)\n",
    "            correct += (predicted == labels).sum().item()\n",
    "\n",
    "    val_acc = 100 * correct / total\n",
    "    train_acc = 100 * correct_train / total_train\n",
    "\n",
    "    epoch_time = time.time() - epoch_start\n",
    "    history.append(\n",
    "        {\n",
    "            'loss': running_loss / len(train_loader),\n",
    "            'val_loss': val_loss / len(train_loader),\n",
    "            'train_acc': train_acc,\n",
    "            'val_acc': val_acc,\n",
    "            'epoch_time': epoch_time,\n",
    "        }\n",
    "    )\n",
    "    print(\n",
    "        f\"Epoch [{epoch + 1}/{total_epochs}] | \"\n",
    "        f\"Loss: {running_loss / len(train_loader):.4f} | \"\n",
    "        f\"Val Acc: {val_acc:.2f}% | \"\n",
    "        f\"Time: {epoch_time:.2f}s\"\n",
    "    )"
   ],
   "metadata": {
    "id": "MAtWrID2_yhy",
    "outputId": "58d0c2c3-3220-45dd-ed06-85dbef9203e2",
    "colab": {
     "base_uri": "https://localhost:8080/",
     "height": 365
    },
    "ExecuteTime": {
     "end_time": "2025-06-16T21:37:32.999646Z",
     "start_time": "2025-06-16T21:14:25.252401Z"
    }
   },
   "id": "MAtWrID2_yhy",
   "outputs": [
    {
     "name": "stderr",
     "output_type": "stream",
     "text": [
      "                                                                            \r"
     ]
    },
    {
     "name": "stdout",
     "output_type": "stream",
     "text": [
      "Epoch [1/10] | Loss: 0.4629 | Val Acc: 88.98% | Time: 153.97s\n"
     ]
    },
    {
     "name": "stderr",
     "output_type": "stream",
     "text": [
      "                                                                            \r"
     ]
    },
    {
     "name": "stdout",
     "output_type": "stream",
     "text": [
      "Epoch [2/10] | Loss: 0.2563 | Val Acc: 91.17% | Time: 143.95s\n"
     ]
    },
    {
     "name": "stderr",
     "output_type": "stream",
     "text": [
      "                                                                            \r"
     ]
    },
    {
     "name": "stdout",
     "output_type": "stream",
     "text": [
      "Epoch [3/10] | Loss: 0.2054 | Val Acc: 91.42% | Time: 136.03s\n"
     ]
    },
    {
     "name": "stderr",
     "output_type": "stream",
     "text": [
      "                                                                             \r"
     ]
    },
    {
     "name": "stdout",
     "output_type": "stream",
     "text": [
      "Epoch [4/10] | Loss: 0.1752 | Val Acc: 92.39% | Time: 132.72s\n"
     ]
    },
    {
     "name": "stderr",
     "output_type": "stream",
     "text": [
      "                                                                             \r"
     ]
    },
    {
     "name": "stdout",
     "output_type": "stream",
     "text": [
      "Epoch [5/10] | Loss: 0.1529 | Val Acc: 92.80% | Time: 136.88s\n"
     ]
    },
    {
     "name": "stderr",
     "output_type": "stream",
     "text": [
      "                                                                             \r"
     ]
    },
    {
     "name": "stdout",
     "output_type": "stream",
     "text": [
      "Epoch [6/10] | Loss: 0.1274 | Val Acc: 92.83% | Time: 137.88s\n"
     ]
    },
    {
     "name": "stderr",
     "output_type": "stream",
     "text": [
      "                                                                             \r"
     ]
    },
    {
     "name": "stdout",
     "output_type": "stream",
     "text": [
      "Epoch [7/10] | Loss: 0.1081 | Val Acc: 92.78% | Time: 138.28s\n"
     ]
    },
    {
     "name": "stderr",
     "output_type": "stream",
     "text": [
      "                                                                             \r"
     ]
    },
    {
     "name": "stdout",
     "output_type": "stream",
     "text": [
      "Epoch [8/10] | Loss: 0.0913 | Val Acc: 92.70% | Time: 137.78s\n"
     ]
    },
    {
     "name": "stderr",
     "output_type": "stream",
     "text": [
      "                                                                              \r"
     ]
    },
    {
     "name": "stdout",
     "output_type": "stream",
     "text": [
      "Epoch [9/10] | Loss: 0.0764 | Val Acc: 92.72% | Time: 137.82s\n"
     ]
    },
    {
     "name": "stderr",
     "output_type": "stream",
     "text": [
      "                                                                              \r"
     ]
    },
    {
     "name": "stdout",
     "output_type": "stream",
     "text": [
      "Epoch [10/10] | Loss: 0.0636 | Val Acc: 91.60% | Time: 132.10s\n"
     ]
    }
   ],
   "execution_count": 11
  },
  {
   "metadata": {
    "id": "9ef4bb9f93db6482",
    "ExecuteTime": {
     "end_time": "2025-06-16T21:37:33.066330Z",
     "start_time": "2025-06-16T21:37:33.064908Z"
    }
   },
   "cell_type": "code",
   "source": [
    "import matplotlib.pyplot as plt"
   ],
   "id": "9ef4bb9f93db6482",
   "outputs": [],
   "execution_count": 12
  },
  {
   "metadata": {
    "id": "e38996f44a440f49",
    "outputId": "5ea54499-c405-46e6-d8fd-8c7e1fe64da2",
    "ExecuteTime": {
     "end_time": "2025-06-16T21:37:33.163766Z",
     "start_time": "2025-06-16T21:37:33.119605Z"
    }
   },
   "cell_type": "code",
   "source": [
    "print(history[0].keys())\n",
    "val_loss_ = [history[x]['val_loss'] for x in range(10)]\n",
    "train_loss_ = [history[x]['loss'] for x in range(10)]\n",
    "\n",
    "plt.figure()\n",
    "plt.plot(val_loss_, label='Val loss')\n",
    "plt.plot(train_loss_, label='train loss')\n",
    "plt.legend()"
   ],
   "id": "e38996f44a440f49",
   "outputs": [
    {
     "name": "stdout",
     "output_type": "stream",
     "text": [
      "dict_keys(['loss', 'val_loss', 'train_acc', 'val_acc', 'epoch_time'])\n"
     ]
    },
    {
     "data": {
      "text/plain": [
       "<matplotlib.legend.Legend at 0x79c08e235190>"
      ]
     },
     "execution_count": 13,
     "metadata": {},
     "output_type": "execute_result"
    },
    {
     "data": {
      "text/plain": [
       "<Figure size 640x480 with 1 Axes>"
      ],
      "image/png": "[encoded data removed]"
     },
     "metadata": {},
     "output_type": "display_data"
    }
   ],
   "execution_count": 13
  },
  {
   "metadata": {
    "id": "df1fd47b164ac20a",
    "outputId": "29e8aa4f-a84d-43c3-8142-532600f6a701",
    "ExecuteTime": {
     "end_time": "2025-06-16T21:37:33.227701Z",
     "start_time": "2025-06-16T21:37:33.181679Z"
    }
   },
   "cell_type": "code",
   "source": [
    "train_acc_ = [history[x]['train_acc'] for x in range(10)]\n",
    "val_acc_ = [history[x]['val_acc'] for x in range(10)]\n",
    "\n",
    "plt.figure()\n",
    "plt.plot(train_acc_, label='train acc')\n",
    "plt.plot(val_acc_, label='val acc')\n",
    "plt.legend()\n"
   ],
   "id": "df1fd47b164ac20a",
   "outputs": [
    {
     "data": {
      "text/plain": [
       "<matplotlib.legend.Legend at 0x79c08d3bc6b0>"
      ]
     },
     "execution_count": 14,
     "metadata": {},
     "output_type": "execute_result"
    },
    {
     "data": {
      "text/plain": [
       "<Figure size 640x480 with 1 Axes>"
      ],
      "image/png": "[encoded data removed]"
     },
     "metadata": {},
     "output_type": "display_data"
    }
   ],
   "execution_count": 14
  },
  {
   "metadata": {
    "id": "d10485c1f3abbd1e",
    "ExecuteTime": {
     "end_time": "2025-06-16T21:37:33.250080Z",
     "start_time": "2025-06-16T21:37:33.248469Z"
    }
   },
   "cell_type": "code",
   "source": [
    "from datetime import datetime\n",
    "\n",
    "now = datetime.now()\n",
    "timestamp = now.strftime(\"%Y-%m-%d_%H:%M:%S\")"
   ],
   "id": "d10485c1f3abbd1e",
   "outputs": [],
   "execution_count": 15
  },
  {
   "metadata": {
    "id": "1f6f446031e3e25c",
    "ExecuteTime": {
     "end_time": "2025-06-16T21:37:33.389689Z",
     "start_time": "2025-06-16T21:37:33.304180Z"
    }
   },
   "cell_type": "code",
   "source": [
    "name = \"ResidualAttentionModel_92_32input_update_\"+timestamp+\".pth\"\n",
    "path = \"./weights/\" + name\n",
    "torch.save(model.state_dict(), path)"
   ],
   "id": "1f6f446031e3e25c",
   "outputs": [],
   "execution_count": 16
  },
  {
   "metadata": {
    "id": "42a739d580a485f",
    "ExecuteTime": {
     "end_time": "2025-06-16T21:37:33.405176Z",
     "start_time": "2025-06-16T21:37:33.403703Z"
    }
   },
   "cell_type": "code",
   "source": [
    "from pathlib import Path\n",
    "path = \"./results/ResidualAttentionModel_92_32input_update_\"+timestamp\n",
    "Path(path).mkdir(parents=True, exist_ok=True)"
   ],
   "id": "42a739d580a485f",
   "outputs": [],
   "execution_count": 17
  },
  {
   "metadata": {
    "id": "690ae29dccea7cad",
    "ExecuteTime": {
     "end_time": "2025-06-16T21:37:33.460966Z",
     "start_time": "2025-06-16T21:37:33.458552Z"
    }
   },
   "cell_type": "code",
   "source": [
    "import pickle\n",
    "\n",
    "with open(path + \"/history.pickle\", 'wb') as f:\n",
    "    pickle.dump(history, f)\n",
    "\n",
    "with open(path + \"/loss_history.pickle\", 'wb') as f:\n",
    "    pickle.dump(loss_history, f)\n",
    "\n",
    "with open(path + \"/loss_history_test.pickle\", 'wb') as f:\n",
    "    pickle.dump(loss_history_test, f)"
   ],
   "id": "690ae29dccea7cad",
   "outputs": [],
   "execution_count": 18
  },
  {
   "metadata": {
    "id": "7095f1d907f2687c",
    "ExecuteTime": {
     "end_time": "2025-06-16T21:37:33.519001Z",
     "start_time": "2025-06-16T21:37:33.517321Z"
    }
   },
   "cell_type": "code",
   "source": [
    "test_iter = iter(test_loader)"
   ],
   "id": "7095f1d907f2687c",
   "outputs": [],
   "execution_count": 19
  },
  {
   "metadata": {
    "id": "9c85b82aa9dc4833",
    "ExecuteTime": {
     "end_time": "2025-06-16T21:37:33.584538Z",
     "start_time": "2025-06-16T21:37:33.573427Z"
    }
   },
   "cell_type": "code",
   "source": [
    "img, label = next(test_iter)\n",
    "img, label = img.to(device), label.to(device)\n",
    "\n",
    "result = model(img)"
   ],
   "id": "9c85b82aa9dc4833",
   "outputs": [],
   "execution_count": 20
  },
  {
   "metadata": {
    "id": "8ad6f022116ebbbb",
    "outputId": "dcef7b76-db6b-4771-94b2-9f8859075a06",
    "ExecuteTime": {
     "end_time": "2025-06-16T21:37:33.637628Z",
     "start_time": "2025-06-16T21:37:33.635714Z"
    }
   },
   "cell_type": "code",
   "source": [
    "_, predicted = torch.max(result.data, 1)\n",
    "print(predicted)"
   ],
   "id": "8ad6f022116ebbbb",
   "outputs": [
    {
     "name": "stdout",
     "output_type": "stream",
     "text": [
      "tensor([9, 2, 1, 1, 6, 1, 4, 6, 5, 7, 4, 5, 7, 3, 4, 1, 6, 4, 8, 0, 4, 5, 7, 5,\n",
      "        1, 6, 6, 0, 9, 3, 8, 8], device='cuda:0')\n"
     ]
    }
   ],
   "execution_count": 21
  },
  {
   "metadata": {
    "id": "dc171ba9b221ab76",
    "outputId": "e62a39c8-396c-4a3a-82dc-993f735dc706",
    "ExecuteTime": {
     "end_time": "2025-06-16T21:37:33.739221Z",
     "start_time": "2025-06-16T21:37:33.698048Z"
    }
   },
   "cell_type": "code",
   "source": [
    "show_images_with_labels(img.to('cpu'), label.to('cpu'))"
   ],
   "id": "dc171ba9b221ab76",
   "outputs": [
    {
     "name": "stdout",
     "output_type": "stream",
     "text": [
      "torch.Size([3, 32, 32])\n",
      "torch.Size([3, 32, 32])\n",
      "torch.Size([3, 32, 32])\n",
      "torch.Size([3, 32, 32])\n",
      "torch.Size([3, 32, 32])\n"
     ]
    },
    {
     "data": {
      "text/plain": [
       "<Figure size 1000x400 with 5 Axes>"
      ],
      "image/png": "[encoded data removed]"
     },
     "metadata": {},
     "output_type": "display_data"
    }
   ],
   "execution_count": 22
  },
  {
   "metadata": {
    "id": "ce8bd471d83bb632",
    "ExecuteTime": {
     "end_time": "2025-06-16T21:37:33.766535Z",
     "start_time": "2025-06-16T21:37:33.764424Z"
    }
   },
   "cell_type": "code",
   "source": [
    "def show_images_with_labels_predicted(images, labels, result):\n",
    "    fig = plt.figure(figsize=(18, 6))\n",
    "    _, predicted = torch.max(result.data, 1)\n",
    "    for idx in range(5):\n",
    "        print(images[idx].shape)\n",
    "        ax = fig.add_subplot(1, 5, idx + 1, xticks=[], yticks=[])\n",
    "        ax.imshow(images[idx][0].squeeze(), cmap='gray')\n",
    "        ax.set_title(f\"T: {class_names[labels[idx].item()]}, P: {class_names[predicted[idx].item()]}\")\n",
    "    plt.show()"
   ],
   "id": "ce8bd471d83bb632",
   "outputs": [],
   "execution_count": 23
  },
  {
   "metadata": {
    "id": "d1860f6238a45192",
    "outputId": "0d82b738-9b58-48f8-b287-37e4775413e6",
    "ExecuteTime": {
     "end_time": "2025-06-16T21:37:33.883899Z",
     "start_time": "2025-06-16T21:37:33.827497Z"
    }
   },
   "cell_type": "code",
   "source": [
    "show_images_with_labels_predicted(img.to('cpu'), label.to('cpu'), result.to('cpu'))"
   ],
   "id": "d1860f6238a45192",
   "outputs": [
    {
     "name": "stdout",
     "output_type": "stream",
     "text": [
      "torch.Size([3, 32, 32])\n",
      "torch.Size([3, 32, 32])\n",
      "torch.Size([3, 32, 32])\n",
      "torch.Size([3, 32, 32])\n",
      "torch.Size([3, 32, 32])\n"
     ]
    },
    {
     "data": {
      "text/plain": [
       "<Figure size 1800x600 with 5 Axes>"
      ],
      "image/png": "[encoded data removed]"
     },
     "metadata": {},
     "output_type": "display_data"
    }
   ],
   "execution_count": 24
  },
  {
   "cell_type": "code",
   "source": [
    "# from __future__ import print_function, division\n",
    "# import torch\n",
    "# import torch.nn as nn\n",
    "# import torch.optim as optim\n",
    "# from torch.autograd import Variable\n",
    "# from torch.utils.data_mnist import Dataset, DataLoader\n",
    "# import numpy as np\n",
    "# import torchvision\n",
    "# from torchvision import transforms, datasets, models\n",
    "# import os\n",
    "# import cv2\n",
    "# import time\n",
    "# # from model.residual_attention_network_pre import ResidualAttentionModel\n",
    "# # based https://github.com/liudaizong/Residual-Attention-Network\n",
    "# from temp.model.residual_attention_network import ResidualAttentionModel_92_32input_update as ResidualAttentionModel\n",
    "#\n",
    "# model_file = './temp/model_92_sgd.pkl'\n",
    "#\n",
    "#\n",
    "# # for test\n",
    "# def test(model, test_loader, btrain=False, model_file='./temp/model_92_sgd.pkl'):\n",
    "#     # Test\n",
    "#     if not btrain:\n",
    "#         model.load_state_dict(torch.load(model_file))\n",
    "#     model.eval()\n",
    "#\n",
    "#     correct = 0\n",
    "#     total = 0\n",
    "#     #\n",
    "#     class_correct = list(0. for i in range(10))\n",
    "#     class_total = list(0. for i in range(10))\n",
    "#\n",
    "#     for images, labels in test_loader:\n",
    "#         images = Variable(images.cuda())\n",
    "#         labels = Variable(labels.cuda())\n",
    "#         outputs = model(images)\n",
    "#         _, predicted = torch.max(outputs.data_mnist, 1)\n",
    "#         total += labels.size(0)\n",
    "#         correct += (predicted == labels.data_mnist).sum()\n",
    "#         #\n",
    "#         c = (predicted == labels.data_mnist).squeeze()\n",
    "#         for i in range(20):\n",
    "#             label = labels.data_mnist[i]\n",
    "#             class_correct[label] += c[i]\n",
    "#             class_total[label] += 1\n",
    "#\n",
    "#     print('Accuracy of the model on the test images: %d %%' % (100 * float(correct) / total))\n",
    "#     print('Accuracy of the model on the test images:', float(correct)/total)\n",
    "#     for i in range(10):\n",
    "#         print('Accuracy of %5s : %2d %%' % (\n",
    "#             classes[i], 100 * class_correct[i] / class_total[i]))\n",
    "#     return correct / total\n",
    "#\n",
    "#\n",
    "# # Image Preprocessing\n",
    "# transform = transforms.Compose([\n",
    "#     transforms.RandomHorizontalFlip(),\n",
    "#     transforms.RandomCrop((32, 32), padding=4),   #left, top, right, bottom\n",
    "#     # transforms.Scale(224),\n",
    "#     transforms.ToTensor()\n",
    "# ])\n",
    "# test_transform = transforms.Compose([\n",
    "#     transforms.ToTensor()\n",
    "# ])\n",
    "# # when image is rgb, totensor do the division 255\n",
    "# # CIFAR-10 Dataset\n",
    "# train_dataset = datasets.CIFAR10(root='./data_mnist/',\n",
    "#                                train=True,\n",
    "#                                transform=transform,\n",
    "#                                download=True)\n",
    "#\n",
    "# test_dataset = datasets.CIFAR10(root='./data_mnist/',\n",
    "#                               train=False,\n",
    "#                               transform=test_transform)\n",
    "#\n",
    "# # Data Loader (Input Pipeline)\n",
    "# train_loader = torch.utils.data_mnist.DataLoader(dataset=train_dataset,\n",
    "#                                            batch_size=64, # 64\n",
    "#                                            shuffle=True, num_workers=8)\n",
    "# test_loader = torch.utils.data_mnist.DataLoader(dataset=test_dataset,\n",
    "#                                           batch_size=20,\n",
    "#                                           shuffle=False)\n",
    "#\n",
    "# images, labels = next(iter(train_loader))\n",
    "# # 64, 1, 28, 28\n",
    "# print(f\"Images shape: {images.shape}\")\n",
    "# print(f\"Labels shape: {labels.shape}\")\n",
    "#\n",
    "# classes = ('plane', 'car', 'bird', 'cat',\n",
    "#            'deer', 'dog', 'frog', 'horse', 'ship', 'truck')\n",
    "# model = ResidualAttentionModel().cuda()\n",
    "# print(model)\n",
    "#\n",
    "# test(model, test_loader, btrain=False)\n",
    "#\n"
   ],
   "metadata": {
    "id": "zoBPNzTC6p7B",
    "outputId": "7766d978-012c-46da-aa6a-fb6ed803b6ac",
    "colab": {
     "base_uri": "https://localhost:8080/",
     "height": 1000
    },
    "ExecuteTime": {
     "end_time": "2025-06-16T21:37:33.909997Z",
     "start_time": "2025-06-16T21:37:33.907636Z"
    }
   },
   "id": "zoBPNzTC6p7B",
   "outputs": [],
   "execution_count": 25
  }
 ],
 "metadata": {
  "kernelspec": {
   "display_name": "Python 3",
   "name": "python3"
  },
  "language_info": {
   "codemirror_mode": {
    "name": "ipython",
    "version": 2
   },
   "file_extension": ".py",
   "mimetype": "text/x-python",
   "name": "python",
   "nbconvert_exporter": "python",
   "pygments_lexer": "ipython2",
   "version": "2.7.6"
  },
  "colab": {
   "provenance": [],
   "gpuType": "T4"
  },
  "accelerator": "GPU"
 },
 "nbformat": 4,
 "nbformat_minor": 5
}
